{
 "cells": [
  {
   "cell_type": "code",
   "execution_count": null,
   "metadata": {},
   "outputs": [],
   "source": [
    "import pandas as pd\n",
    "data = {\n",
    "    \"names\": [\"Tony\", \"Munene\", \"Kinyua\"],\n",
    "    \"ages\": [12, 13, 31]\n",
    "}\n",
    "data = pd.DataFrame(data)\n",
    "data.index = data[\"names\"]\n",
    "sampled = data.sample(1, weights=\"ages\", replace=False)\n",
    "sampled[\"points\"] = 2\n",
    "sampled.head()"
   ]
  },
  {
   "cell_type": "code",
   "execution_count": null,
   "metadata": {},
   "outputs": [],
   "source": [
    "import random\n",
    "random.seed(19)\n",
    "away_team_players_with_stats = pd.read_csv(\n",
    "    filepath_or_buffer=\"../data/dummy/away_team_players_with_stats.csv\"\n",
    ")\n",
    "home_team_players_with_stats = pd.read_csv(\n",
    "    filepath_or_buffer=\"../data/dummy/home_team_players_with_stats.csv\"\n",
    ")\n",
    "home_team_players_with_stats[\"minutes_played\"] = [random.choice([45, 60, 90]) for _ in range(len(home_team_players_with_stats))]\n",
    "away_team_players_with_stats[\"minutes_played\"] = [random.choice([45, 60, 90]) for _ in range(len(away_team_players_with_stats))]\n",
    "home_team_players_with_stats.to_csv(path_or_buf=\"../data/dummy/home_team_starting.csv\", index=False)\n",
    "away_team_players_with_stats.to_csv(path_or_buf=\"../data/dummy/away_team_starting.csv\", index=False)"
   ]
  },
  {
   "cell_type": "code",
   "execution_count": null,
   "metadata": {},
   "outputs": [
    {
     "name": "stdout",
     "output_type": "stream",
     "text": [
      "Matched players: 585\n",
      "Player ability model successfully saved to ../data/2023-24/player_ability.csv\n"
     ]
    }
   ],
   "source": [
    "from player_ability import PlayerAbilityPriors\n",
    "\n",
    "player_model = PlayerAbilityPriors(\"2023\", \"0\").update()\n"
   ]
  },
  {
   "cell_type": "code",
   "execution_count": 6,
   "metadata": {},
   "outputs": [
    {
     "name": "stdout",
     "output_type": "stream",
     "text": [
      "Home goals: 1.7887970049281339\n"
     ]
    }
   ],
   "source": [
    "import pickle\n",
    "import numpy as np\n",
    "\n",
    "with open(file=\"../data/dummy/parameters.pkl\", mode=\"rb\") as params:\n",
    "    data: np.typing.NDArray = pickle.load(params)\n",
    "    goals = sum([row_idx * sum(data[row_idx, :]) for row_idx in range(1, len(data), 1)])\n",
    "    print(f\"Home goals: {goals}\")\n",
    "    \n",
    "        "
   ]
  },
  {
   "cell_type": "code",
   "execution_count": null,
   "metadata": {},
   "outputs": [],
   "source": []
  }
 ],
 "metadata": {
  "kernelspec": {
   "display_name": "pymc_env",
   "language": "python",
   "name": "python3"
  },
  "language_info": {
   "codemirror_mode": {
    "name": "ipython",
    "version": 3
   },
   "file_extension": ".py",
   "mimetype": "text/x-python",
   "name": "python",
   "nbconvert_exporter": "python",
   "pygments_lexer": "ipython3",
   "version": "3.13.2"
  }
 },
 "nbformat": 4,
 "nbformat_minor": 2
}
