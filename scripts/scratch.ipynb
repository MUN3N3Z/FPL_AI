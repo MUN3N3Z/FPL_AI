{
 "cells": [
  {
   "cell_type": "code",
   "execution_count": 2,
   "metadata": {},
   "outputs": [
    {
     "data": {
      "text/html": [
       "<div>\n",
       "<style scoped>\n",
       "    .dataframe tbody tr th:only-of-type {\n",
       "        vertical-align: middle;\n",
       "    }\n",
       "\n",
       "    .dataframe tbody tr th {\n",
       "        vertical-align: top;\n",
       "    }\n",
       "\n",
       "    .dataframe thead th {\n",
       "        text-align: right;\n",
       "    }\n",
       "</style>\n",
       "<table border=\"1\" class=\"dataframe\">\n",
       "  <thead>\n",
       "    <tr style=\"text-align: right;\">\n",
       "      <th></th>\n",
       "      <th>names</th>\n",
       "      <th>ages</th>\n",
       "      <th>points</th>\n",
       "    </tr>\n",
       "    <tr>\n",
       "      <th>names</th>\n",
       "      <th></th>\n",
       "      <th></th>\n",
       "      <th></th>\n",
       "    </tr>\n",
       "  </thead>\n",
       "  <tbody>\n",
       "    <tr>\n",
       "      <th>Kinyua</th>\n",
       "      <td>Kinyua</td>\n",
       "      <td>31</td>\n",
       "      <td>2</td>\n",
       "    </tr>\n",
       "  </tbody>\n",
       "</table>\n",
       "</div>"
      ],
      "text/plain": [
       "         names  ages  points\n",
       "names                       \n",
       "Kinyua  Kinyua    31       2"
      ]
     },
     "execution_count": 2,
     "metadata": {},
     "output_type": "execute_result"
    }
   ],
   "source": [
    "import pandas as pd\n",
    "data = {\n",
    "    \"names\": [\"Tony\", \"Munene\", \"Kinyua\"],\n",
    "    \"ages\": [12, 13, 31]\n",
    "}\n",
    "data = pd.DataFrame(data)\n",
    "data.index = data[\"names\"]\n",
    "sampled = data.sample(1, weights=\"ages\", replace=False)\n",
    "sampled[\"points\"] = 2\n",
    "sampled.head()"
   ]
  },
  {
   "cell_type": "code",
   "execution_count": 3,
   "metadata": {},
   "outputs": [],
   "source": [
    "import random\n",
    "random.seed(19)\n",
    "away_team_players_with_stats = pd.read_csv(\n",
    "    filepath_or_buffer=\"../data/dummy/away_team_players_with_stats.csv\"\n",
    ")\n",
    "home_team_players_with_stats = pd.read_csv(\n",
    "    filepath_or_buffer=\"../data/dummy/home_team_players_with_stats.csv\"\n",
    ")\n",
    "home_team_players_with_stats[\"minutes_played\"] = [random.choice([45, 60, 90]) for _ in range(len(home_team_players_with_stats))]\n",
    "away_team_players_with_stats[\"minutes_played\"] = [random.choice([45, 60, 90]) for _ in range(len(away_team_players_with_stats))]\n",
    "home_team_players_with_stats.to_csv(path_or_buf=\"../data/dummy/home_team_starting.csv\", index=False)\n",
    "away_team_players_with_stats.to_csv(path_or_buf=\"../data/dummy/away_team_starting.csv\", index=False)"
   ]
  }
 ],
 "metadata": {
  "kernelspec": {
   "display_name": "pymc_env",
   "language": "python",
   "name": "python3"
  },
  "language_info": {
   "codemirror_mode": {
    "name": "ipython",
    "version": 3
   },
   "file_extension": ".py",
   "mimetype": "text/x-python",
   "name": "python",
   "nbconvert_exporter": "python",
   "pygments_lexer": "ipython3",
   "version": "3.13.2"
  }
 },
 "nbformat": 4,
 "nbformat_minor": 2
}
