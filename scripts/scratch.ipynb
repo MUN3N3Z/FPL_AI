{
 "cells": [
  {
   "cell_type": "code",
   "execution_count": 3,
   "metadata": {},
   "outputs": [],
   "source": [
    "import pandas as pd\n",
    "\n",
    "data = pd.read_csv(filepath_or_buffer=\"https://www.football-data.co.uk/mmz4281/2223/E0.csv\")\n",
    "data = data[[\"HomeTeam\", \"AwayTeam\", \"FTHG\", \"FTAG\"]]\n",
    "data = data.rename(columns={\"FTHG\": \"HomeGoals\", \"FTAG\": \"AwayGoals\"})\n",
    "data.to_csv(path_or_buf=\"../data/2023-24/fixture_results.csv\", index=False)"
   ]
  }
 ],
 "metadata": {
  "kernelspec": {
   "display_name": "pymc_env",
   "language": "python",
   "name": "python3"
  },
  "language_info": {
   "codemirror_mode": {
    "name": "ipython",
    "version": 3
   },
   "file_extension": ".py",
   "mimetype": "text/x-python",
   "name": "python",
   "nbconvert_exporter": "python",
   "pygments_lexer": "ipython3",
   "version": "3.13.2"
  }
 },
 "nbformat": 4,
 "nbformat_minor": 2
}
