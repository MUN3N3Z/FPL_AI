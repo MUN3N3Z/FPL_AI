{
 "cells": [
  {
   "cell_type": "markdown",
   "metadata": {},
   "source": [
    "#### Modelling the sequential FPL team selection process as a Belief-State Markov Decision Process\n",
    "- For the $i$-th gameweek, we define the following terms:\n",
    "    - $M_i$ is set of matches in gameweek $i$.\n",
    "    - $P_i$ is the set of players available for selection in gameweek $i$.\n",
    "    - $A_i$ is the set of actions available in gameweek $i$, where $a \\in A_i$ is a subset of $P_i$ and observes all team selection constraints.\n",
    "    - $p_i \\in P_i$ is associated with its FPL-designated position $pos(p_i)$ and price $pr(p_i)$.\n",
    "    - $\\tau_p \\in \\tau$ is a system of distributions representing player's performance/influence on the matchplay.\n",
    "    - $O_i$ is the set of match observations in gameweek $i$\n",
    "    - $o \\in O_i$ includes both the result of the matches and the performance of the players in the selected team e.g. goals, assists, clean sheets, yellow cards, red cards, bonus points. The probability of each $o \\in O_i$ is somehow dependent on the players' characteristics ($\\tau$) i.e. a team with strong attackers is more likely to score goals, therefore, $P(o | \\tau)$ is dependent on $\\tau$.\n",
    "    - $R(o, a_{prev}, a_{curr})$ is the reward function, which returns the points scored by the selected team $a_{curr}$, given the match observations $o$. The previous team $a_{prev}$ is also provided to penalize the agent for any player poor player transfers or transfers beyond the allowed number."
   ]
  },
  {
   "cell_type": "markdown",
   "metadata": {},
   "source": [
    "Markov's Decision Process (MDP) \n",
    "- A state $S_i$ would encapsulate\n",
    "    - $M_{i,..., 38}$ - set of upcoming fixtures for that gameweek\n",
    "    - $P_i$ - set of players available for selection\n",
    "    - $o \\in O_{i - 1}$ - the outcome of the previous gameweek\n",
    "    - $\\tau$ - the system of distributions representing players' abilities\n",
    "- An action $A_i$ is the set of teams selectable in gameweek $i$\n",
    "- $R$ is the corresponding reward function"
   ]
  },
  {
   "cell_type": "markdown",
   "metadata": {},
   "source": [
    "Belief model ($\\tau$):\n",
    "- Represent uncertainty over players' abilities and generate samples $\\tau$ from the distribution $Pr(\\tau | b)$.\n",
    "- Three distributions are used to model the players' abilities:\n",
    "    - $\\rho_p$ - a three-state categorical distribution representing the player's probability of starting a match, being substituted, or not playing at all i.e. (start, sub, unused).\n",
    "    - $\\omega_p$ - a Bernoulli/Binomial distribution over a single trial, representing the probability of a player scoring a goal given he was playiong at the time\n",
    "    - $\\psi_p$ - a Bernoulli distribution representing the probability of a player providing an assist given he was playing at the time\n",
    "- Define prior distributions over the parameters of the above distributions and update them using the match observations $o$ to obtain new posterior distributions.\n",
    "- Use simple closed-form equations e.g. Beta and Dirichlet conjugate priors to update the priors.\n",
    "- Sample from these conjugate distributions to generate $\\tau_p$.\n",
    "- Define hyperparemeters uniformly across all players i.e. $$\\omega_p \\sim Beta(1, 1), \\psi_p \\sim Beta(1, 1),  \\rho_p \\sim Dirichlet(\\frac{1}{4}, \\frac{1}{4}, \\frac{1}{4})$$\n",
    "- Potential to use performance data from previous seasons to define priors\n",
    "- Define 4 global multinomial distributions $S_{pos}$ - one for each position - to describe the distribution of minutes players who play the same position $pos$ are likely to play in a match, given they start the match.\n",
    "- Player absence via injury/suspension or any other reson is modelled by setting the probability of starting and substituting to zero i.e. $Pr(\\rho_p = start) \\text{and} Pr(\\rho_p = sub) = 0$."
   ]
  },
  {
   "cell_type": "code",
   "execution_count": 1,
   "metadata": {},
   "outputs": [
    {
     "name": "stdout",
     "output_type": "stream",
     "text": [
      "Standardized gameweek data saved to csv!\n"
     ]
    }
   ],
   "source": [
    "from utils.data_registry import DataRegistry\n",
    "import pymc as pm\n",
    "import numpy as np\n",
    "import pandas as pd\n",
    "\n",
    "# There are 38 gameweeks in a season\n",
    "GAMEWEEK_COUNT = 38\n",
    "\n",
    "seasonal_gameweek_player_data = DataRegistry()"
   ]
  },
  {
   "cell_type": "code",
   "execution_count": null,
   "metadata": {},
   "outputs": [],
   "source": [
    "# Define player ability (only for players in the 2023/24 season) priors to reflect the occurrences of previous seasons i.e. 2016/17 - 2022/23\n",
    "player_ability_df = pd.DataFrame()\n",
    "player_ability_df[\"name\"] = seasonal_gameweek_player_data.player_data[\"2023-24\"][\"first_name\"] + \" \" + seasonal_gameweek_player_data.player_data[\"2023-24\"][\"second_name\"]\n",
    "player_ability_df[\"ρ_β\"] = [np.array([1/4, 1/4, 1/4])] * len(player_ability_df) # Dirichlet prior for ρ\n",
    "player_ability_df[(\"ω\",\"α\")] = np.ones(len(player_ability_df)) # Beta prior for ω\n",
    "player_ability_df[(\"ω\",\"β\")] = np.ones(len(player_ability_df)) # Beta prior for ω\n",
    "player_ability_df[(\"ψ\",\"α\")] = np.ones(len(player_ability_df)) # Beta prior for ψ\n",
    "player_ability_df[(\"ψ\",\"β\")] = np.ones(len(player_ability_df)) # Beta prior for ψ\n",
    "\n",
    "for season, gameweek_data_df in seasonal_gameweek_player_data.gameweek_data.items():\n",
    "    for gameweek_count in range(1, GAMEWEEK_COUNT + 1):\n",
    "        for player_name in player_ability_df[\"name\"]:\n",
    "            \"\"\" # Longest common subsequence \n",
    "                - Check how often it occurs\n",
    "            \"\"\"\n",
    "            player_gameweek_data = gameweek_data_df.loc[(gameweek_data_df[\"GW\"] == gameweek_count) & (gameweek_data_df[\"name\"] == player_name)]\n",
    "            if not player_gameweek_data.empty:\n",
    "                with pm.Model() as sequential_player_ability_model:\n",
    "                    # Retrieve respective player's priors\n",
    "                    ρ_β = player_ability_df.loc[player_ability_df[\"name\"] == player_name][\"ρ_β\"]\n",
    "                    ω_α = player_ability_df.loc[player_ability_df[\"name\"] == player_name][\"ω\"][\"α\"]\n",
    "                    ω_β = player_ability_df.loc[player_ability_df[\"name\"] == player_name][\"ω\"][\"β\"]\n",
    "                    ψ_α = player_ability_df.loc[player_ability_df[\"name\"] == player_name][\"ψ\"][\"α\"]\n",
    "                    ψ_β = player_ability_df.loc[player_ability_df[\"name\"] == player_name][\"ψ\"][\"β\"]\n",
    "\n",
    "                    # Priors for the current iteration\n",
    "                    ρ = pm.Dirichlet('ρ', a=ρ_β)\n",
    "                    ω = pm.Beta('ω', alpha=ω_α, beta=ω_β)\n",
    "                    ψ = pm.Beta('ψ', alpha=ψ_α, beta=ψ_β)\n",
    "\n",
    "                    # ρ Likelihood (multinomial)\n",
    "                    ρ_observed = np.array([])\n",
    "\n",
    "\n",
    "\n"
   ]
  },
  {
   "cell_type": "code",
   "execution_count": null,
   "metadata": {},
   "outputs": [],
   "source": [
    "# Global multinomial distributions for players' minutes played at each position\n",
    "player_positions = player_data_2023_2024[\"element_type\"].unique()\n",
    "\n",
    "with pm.Model() as player_position_minutes_played_model:\n",
    "    # 91 possible minutes in a match (0-90)\n",
    "    α = np.ones(91)\n",
    "    # Dirichlet prior for minutes played at each position\n",
    "    gk = pm.Dirichlet('gk', a=α, shape=91)\n",
    "    df = pm.Dirichlet('def', a=α, shape=91)\n",
    "    mid = pm.Dirichlet('mid', a=α, shape=91)\n",
    "    fwd = pm.Dirichlet('fwd', a=α, shape=91)\n",
    "    \n",
    "\n",
    "    "
   ]
  }
 ],
 "metadata": {
  "kernelspec": {
   "display_name": "venv",
   "language": "python",
   "name": "python3"
  },
  "language_info": {
   "codemirror_mode": {
    "name": "ipython",
    "version": 3
   },
   "file_extension": ".py",
   "mimetype": "text/x-python",
   "name": "python",
   "nbconvert_exporter": "python",
   "pygments_lexer": "ipython3",
   "version": "3.12.5"
  }
 },
 "nbformat": 4,
 "nbformat_minor": 2
}
